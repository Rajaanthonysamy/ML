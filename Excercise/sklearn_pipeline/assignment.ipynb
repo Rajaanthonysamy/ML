{
 "cells": [
  {
   "cell_type": "markdown",
   "id": "93c19028-be5a-40bb-a08a-6bc04135f45b",
   "metadata": {},
   "source": [
    "### Problem Statement\n",
    "\n",
    "You are a data scientist / AI engineer working on a classification problem to predict the weather type based on various weather-related features. You have been provided with a dataset named **`\"weather_classification_data.csv\"`**, which includes several parameters affecting weather conditions. The dataset comprises the following columns:\n",
    "\n",
    "- temperature: The temperature in degrees Celsius.\n",
    "- humidity: The humidity percentage.\n",
    "- wind_speed: The wind speed in kilometers per hour.\n",
    "- precipitation (%): The precipitation percentage.\n",
    "- cloud_cover: The cloud cover description.\n",
    "- atmospheric_pressure: The atmospheric pressure in hPa.\n",
    "- uv_index: The UV index.\n",
    "- season: The season during which the data was recorded.\n",
    "- visibility (km): The visibility in kilometers.\n",
    "- location: The type of location where the data was recorded.\n",
    "- weather_type: The target variable for classification, indicating the weather type (Rainy, Sunny, Cloudy, Snowy).\n",
    "  \n",
    "Your task is to use this dataset to build and evaluate machine learning models to predict the weather type based on the given parameters. You will perform data preprocessing, exploratory data analysis, and model training using Support Vector Machine (SVM) with different kernels.\n",
    "\n",
    "Dataset credits: Nikhil Narayan (https://www.kaggle.com/datasets/nikhil7280/weather-type-classification)"
   ]
  },
  {
   "cell_type": "markdown",
   "id": "84c41365-f001-4c8b-96be-39dc402f32e0",
   "metadata": {},
   "source": [
    "**Import Necessary Libraries**"
   ]
  },
  {
   "cell_type": "code",
   "execution_count": 6,
   "id": "992e86da-a9a9-4c01-bc80-af273798c18c",
   "metadata": {},
   "outputs": [],
   "source": [
    "# Import Necessary Libraries\n",
    "import pandas as pd\n",
    "from sklearn.svm import SVC\n",
    "import matplotlib.pyplot as plt\n",
    "import seaborn as sns\n",
    "from sklearn.preprocessing import StandardScaler\n",
    "from sklearn.metrics import classification_report, confusion_matrix\n",
    "from sklearn.pipeline import Pipeline\n",
    "from sklearn.model_selection import train_test_split"
   ]
  },
  {
   "cell_type": "markdown",
   "id": "c30c7ee3-e5ea-49d0-a22a-51d92364eb50",
   "metadata": {},
   "source": [
    "### Task 1: Data Preparation and Exploration\n",
    "\n",
    "1. Import the data from the `\"weather_data.csv\"` file and store it in a DataFrame.\n",
    "2. Display the number of rows and columns in the dataset.\n",
    "3. Display the first few rows of the dataset to understand its structure.\n",
    "4. Check for any missing values in the dataset and handle them appropriately.\n",
    "5. Visualize the distribution of key features using appropriate charts:\n",
    "    - Visualize `season` using a pie chart.\n",
    "    - Visualize `temperature, humidity, and wind_speed` using histograms.\n",
    "    - Visualize `precipitation (%)` using a box plot."
   ]
  },
  {
   "cell_type": "code",
   "execution_count": 10,
   "id": "26839a03-4736-4cec-b184-f2311fc22e5b",
   "metadata": {},
   "outputs": [
    {
     "name": "stdout",
     "output_type": "stream",
     "text": [
      "(13200, 11)\n",
      "   temperature  humidity  wind_speed  precipitation (%)    cloud_cover  \\\n",
      "0           14        73         9.5                 82  partly cloudy   \n",
      "1           39        96         8.5                 71  partly cloudy   \n",
      "2           30        64         7.0                 16          clear   \n",
      "3           38        83         1.5                 82          clear   \n",
      "4           27        74        17.0                 66       overcast   \n",
      "\n",
      "   atmospheric_pressure  uv_index  season  visibility (km)  location  \\\n",
      "0               1010.82         2  Winter              3.5    inland   \n",
      "1               1011.43         7  Spring             10.0    inland   \n",
      "2               1018.72         5  Spring              5.5  mountain   \n",
      "3               1026.25         7  Spring              1.0   coastal   \n",
      "4                990.67         1  Winter              2.5  mountain   \n",
      "\n",
      "  weather_type  \n",
      "0        Rainy  \n",
      "1       Cloudy  \n",
      "2        Sunny  \n",
      "3        Sunny  \n",
      "4        Rainy  \n"
     ]
    }
   ],
   "source": [
    "# Step 1: Import the data from the \"weather_data.csv\" file\n",
    "df=pd.read_csv(\"weather_classification_data.csv\")\n",
    "\n",
    "# Step 2: Display the number of rows and columns in the dataset\n",
    "print(df.shape)\n",
    "\n",
    "# Step 3: Display the first few rows of the dataset to understand its structure.\n",
    "print(df.head(5))"
   ]
  },
  {
   "cell_type": "code",
   "execution_count": 30,
   "id": "78370153-aea9-422f-b43d-fff1f9971be6",
   "metadata": {},
   "outputs": [
    {
     "data": {
      "text/plain": [
       "([<matplotlib.patches.Wedge at 0x7f92791fa250>,\n",
       "  <matplotlib.patches.Wedge at 0x7f92791b4d50>,\n",
       "  <matplotlib.patches.Wedge at 0x7f92791b60d0>,\n",
       "  <matplotlib.patches.Wedge at 0x7f92791b5490>],\n",
       " [Text(0.25678986018396527, 1.0696069220544058, 'Winter'),\n",
       "  Text(-1.08812293896696, -0.16120939703970527, 'Spring'),\n",
       "  Text(-0.22972695475611857, -1.0757441732393815, 'Autumn'),\n",
       "  Text(0.9121365389736106, -0.614822685226597, 'Summer')],\n",
       " [Text(0.14006719646398105, 0.5834219574842212, '42.5%'),\n",
       "  Text(-0.5935216030728873, -0.08793239838529378, '19.7%'),\n",
       "  Text(-0.12530561168515555, -0.5867695490396626, '18.9%'),\n",
       "  Text(0.497529021258333, -0.33535782830541655, '18.9%')])"
      ]
     },
     "execution_count": 30,
     "metadata": {},
     "output_type": "execute_result"
    },
    {
     "data": {
      "image/png": "[encoded data removed]",
      "text/plain": [
       "<Figure size 640x480 with 1 Axes>"
      ]
     },
     "metadata": {},
     "output_type": "display_data"
    }
   ],
   "source": [
    "# Step 4: Visualize the distribution of key features\n",
    "season_counts=df[\"season\"].value_counts()\n",
    "plt.pie(season_counts,autopct='%1.1f%%',colors=plt.get_cmap('Set2').colors,labels=season_counts.index)\n",
    "# Visualize season using a pie chart\n"
   ]
  },
  {
   "cell_type": "code",
   "execution_count": 38,
   "id": "4ccd099a-b927-4d59-af02-291957c5af16",
   "metadata": {},
   "outputs": [
    {
     "data": {
      "text/plain": [
       "0        73\n",
       "1        96\n",
       "2        64\n",
       "3        83\n",
       "4        74\n",
       "         ..\n",
       "13195    74\n",
       "13196    76\n",
       "13197    77\n",
       "13198    76\n",
       "13199    38\n",
       "Name: humidity, Length: 13200, dtype: int64"
      ]
     },
     "execution_count": 38,
     "metadata": {},
     "output_type": "execute_result"
    }
   ],
   "source": [
    "df.humidity"
   ]
  },
  {
   "cell_type": "code",
   "execution_count": 50,
   "id": "a09abb1b-f888-467b-858f-3e8df9526e1b",
   "metadata": {},
   "outputs": [
    {
     "data": {
      "image/png": "[encoded data removed]",
      "text/plain": [
       "<Figure size 1500x600 with 6 Axes>"
      ]
     },
     "metadata": {},
     "output_type": "display_data"
    }
   ],
   "source": [
    "# Visualize temperature, humidity, and wind_speed using histograms\n",
    "plt.fi\n",
    "plt.hist(df['temperature'], alpha=0.5, label='Temperature')"
   ]
  },
  {
   "cell_type": "code",
   "execution_count": 52,
   "id": "a4550d36-4fcc-473b-9c51-4eccdbbdb6ad",
   "metadata": {},
   "outputs": [
    {
     "data": {
      "text/plain": [
       "(array([2189., 2216., 3103., 1854., 1854., 1038.,  407.,  115.,  145.,\n",
       "          82.,   90.,   44.,   31.,   22.,   10.]),\n",
       " array([ 0.        ,  3.23333333,  6.46666667,  9.7       , 12.93333333,\n",
       "        16.16666667, 19.4       , 22.63333333, 25.86666667, 29.1       ,\n",
       "        32.33333333, 35.56666667, 38.8       , 42.03333333, 45.26666667,\n",
       "        48.5       ]),\n",
       " <BarContainer object of 15 artists>)"
      ]
     },
     "execution_count": 52,
     "metadata": {},
     "output_type": "execute_result"
    },
    {
     "data": {
      "image/png": "[encoded data removed]",
      "text/plain": [
       "<Figure size 640x480 with 1 Axes>"
      ]
     },
     "metadata": {},
     "output_type": "display_data"
    }
   ],
   "source": [
    "plt.hist(df['temperature'], bins=15, alpha=0.5, label='Temperature')\n",
    "plt.hist(df['humidity'], bins=15, alpha=0.5, label='Humidity')\n",
    "plt.hist(df['wind_speed'], bins=15, alpha=0.5, label='Wind Speed')"
   ]
  },
  {
   "cell_type": "code",
   "execution_count": 5,
   "id": "2b2dece8-ecd4-4e13-bee3-a3c7cb5cd378",
   "metadata": {},
   "outputs": [],
   "source": [
    "# Visualize precipitation (%) using a box plot\n"
   ]
  },
  {
   "cell_type": "markdown",
   "id": "dcb1c6f8-c4a6-460e-9d12-c8d6b2904775",
   "metadata": {},
   "source": [
    "### Task 2: Data Transformation\n",
    "\n",
    "1. Encode cloud_cover, location and season using one-hot encoding.\n",
    "2. Scale the numerical features (temperature, humidity, wind_speed, precipitation (%), atmospheric_pressure, uv_index, visibility (km)) using StandardScaler.\n",
    "3. Display the first few rows of the updated dataset."
   ]
  },
  {
   "cell_type": "code",
   "execution_count": 1,
   "id": "e1d2f2bc-2c26-4381-9238-df96d0c5ebdd",
   "metadata": {},
   "outputs": [],
   "source": [
    "# Step 1: Encode cloud_cover, location and season using one-hot encoding.\n",
    "\n"
   ]
  },
  {
   "cell_type": "code",
   "execution_count": 7,
   "id": "9927c4e3-3713-454d-88cd-64b527e610a5",
   "metadata": {},
   "outputs": [],
   "source": [
    "# Step 2: Scale the numerical features\n",
    "\n"
   ]
  },
  {
   "cell_type": "code",
   "execution_count": 8,
   "id": "c2e5d484-6f5d-40cd-ae7d-8ff3ae13bb9c",
   "metadata": {},
   "outputs": [],
   "source": [
    "# Step3: Display the first few rows of the updated dataset.\n",
    "\n"
   ]
  },
  {
   "cell_type": "markdown",
   "id": "4dec953b-e5d5-4f77-aa8b-5cd91934a9ea",
   "metadata": {},
   "source": [
    "### Task 3: Model Training Using SVM with Linear Kernel\n",
    "\n",
    "1. Select the features and the target variable for modeling.\n",
    "2. Split the data into training and test sets with a test size of 30%.\n",
    "3. Initialize and train an SVM model with a linear kernel using the training data.\n",
    "4. Print the model's accuracy score on test data.\n",
    "5. Evaluate the model using a classification report and confusion matrix."
   ]
  },
  {
   "cell_type": "code",
   "execution_count": 9,
   "id": "bc04c2fa-01e6-4b6a-8ff8-47ef12a64668",
   "metadata": {},
   "outputs": [],
   "source": [
    "# Step 1: Select features and target variable\n",
    "\n",
    "\n",
    "# Step 2: Split the data\n"
   ]
  },
  {
   "cell_type": "code",
   "execution_count": 10,
   "id": "73344288-6446-4b32-acc4-b3bd0afbc4e6",
   "metadata": {},
   "outputs": [],
   "source": [
    "# Step 3: Train SVM with linear kernel\n",
    "\n",
    "\n",
    "# Step 4: Print accuracy score\n",
    "\n"
   ]
  },
  {
   "cell_type": "code",
   "execution_count": 11,
   "id": "61d4ff17-c4d0-4c63-9643-56b2e920a261",
   "metadata": {},
   "outputs": [],
   "source": [
    "# Step 5: Evaluate the model\n",
    "\n",
    "\n",
    "#classification report\n",
    "\n",
    "\n",
    "\n",
    "#confusion matrix\n",
    "\n"
   ]
  },
  {
   "cell_type": "markdown",
   "id": "2f09678a-daba-4444-a4af-4472dd9141b3",
   "metadata": {},
   "source": [
    "### Task 4: Model Training Using SVM with RBF Kernel\n",
    "\n",
    "1. Initialize and train an SVM model with an RBF kernel using the training data.\n",
    "2. Print the model's accuracy score on test data.\n",
    "3. Evaluate the model using a classification report and confusion matrix."
   ]
  },
  {
   "cell_type": "code",
   "execution_count": 12,
   "id": "45c809ed-1a87-4310-a1ee-2a5b7eca662d",
   "metadata": {},
   "outputs": [],
   "source": [
    "# Step 1: Train SVM with RBF kernel\n",
    "\n",
    "\n",
    "\n",
    "# Step 2: Print accuracy score\n",
    "\n",
    "\n",
    "\n",
    "\n",
    "# Step 3: Evaluate the model\n",
    "\n",
    "#classification report\n",
    "\n",
    "\n",
    "\n",
    "#confusion matrix\n",
    "\n"
   ]
  },
  {
   "cell_type": "markdown",
   "id": "27f358d2-a51b-4cd7-94bc-f33e8f32b0e7",
   "metadata": {},
   "source": [
    "### Task 5: Experiment with Hyperparameters in SVM\n",
    "\n",
    "1. Train an SVM model with an RBF kernel and the following hyperparameters:\n",
    "    - C=0.5\n",
    "    - gamma='auto'\n",
    "    - kernel='rbf'\n",
    "    - degree=2\n",
    "      \n",
    "Learn about these parameters here: [SVC Parameters](https://scikit-learn.org/stable/modules/generated/sklearn.svm.SVC.html)\n",
    "\n",
    "--------------------------------------------------------------------------------------------------------------------------------------------------------\n",
    "\n",
    "2. Print the model's accuracy score on test data.\n",
    "3. Evaluate the model using a classification report and confusion matrix."
   ]
  },
  {
   "cell_type": "code",
   "execution_count": 13,
   "id": "2e222cc7-2fa4-4e45-a6d5-a1889763a7e7",
   "metadata": {},
   "outputs": [],
   "source": [
    "# Step 1: Train the SVM model with specified hyperparameters\n",
    "\n",
    "\n",
    "# Step 2: Print the model's accuracy score\n",
    "\n",
    "\n",
    "\n",
    "# Step 3: Make predictions on the test set\n",
    "\n",
    "\n",
    "\n",
    "# Step 4: Evaluate the model using a classification report and confusion matrix\n",
    "\n",
    "\n",
    "#classification report\n",
    "\n",
    "\n",
    "\n",
    "#confusion matrix\n",
    "\n"
   ]
  },
  {
   "cell_type": "markdown",
   "id": "47fc95f6-3538-49ab-9eea-438662d0569a",
   "metadata": {},
   "source": [
    "### Task 6: Implementing Sklearn Pipeline\n",
    "\n",
    "1. Create a pipeline that includes the StandardScaler and the SVM model with an RBF kernel.\n",
    "2. Train the pipeline using the training data.\n",
    "3. Evaluate the pipeline using the test data and print the classification report."
   ]
  },
  {
   "cell_type": "code",
   "execution_count": 14,
   "id": "a766b1f7-a765-43f0-8677-a49c07b3f1c7",
   "metadata": {},
   "outputs": [],
   "source": [
    "# Create a pipeline with two steps: scaling and SVM with RBF kernel\n",
    "\n",
    "\n",
    "# Fit the pipeline on the training data\n",
    "\n",
    "\n",
    "# Make predictions using the pipeline on the test data\n",
    "\n",
    "\n",
    "# Print the classification report for the pipeline model\n",
    "\n",
    "\n",
    "# Print the confusion matrix for the pipeline model\n"
   ]
  }
 ],
 "metadata": {
  "kernelspec": {
   "display_name": "Python 3 (ipykernel)",
   "language": "python",
   "name": "python3"
  },
  "language_info": {
   "codemirror_mode": {
    "name": "ipython",
    "version": 3
   },
   "file_extension": ".py",
   "mimetype": "text/x-python",
   "name": "python",
   "nbconvert_exporter": "python",
   "pygments_lexer": "ipython3",
   "version": "3.11.9"
  }
 },
 "nbformat": 4,
 "nbformat_minor": 5
}
