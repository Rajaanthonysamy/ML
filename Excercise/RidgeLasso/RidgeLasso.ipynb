{
 "cells": [
  {
   "cell_type": "markdown",
   "id": "9f3ff33c-6de3-4403-a484-bcfa23016ac5",
   "metadata": {},
   "source": [
    "### Problem Statement\n",
    "\n",
    "You are a data scientist / AI engineer at a healthcare consulting firm. You have been provided with a dataset named **`\"patient_health_data.csv\"`**, which includes records of various health indicators for a group of patients. The dataset comprises the following columns:\n",
    "\n",
    "- `age:` The age of the patient.\n",
    "- `bmi:` Body Mass Index of the patient.\n",
    "- `blood_pressure:` The blood pressure of the patient.\n",
    "- `cholesterol:` Cholesterol levels of the patient.\n",
    "- `glucose:` Glucose levels of the patient.\n",
    "- `insulin:` Insulin levels of the patient.\n",
    "- `heart_rate:` Heart rate of the patient.\n",
    "- `activity_level:` Activity level of the patient.\n",
    "- `diet_quality:` Quality of diet of the patient.\n",
    "- `smoking_status:` Whether the patient smokes (Yes or No).\n",
    "- `alcohol_intake:` The amount of alcohol intake by the patient.\n",
    "- `health_risk_score:` A composite score representing the overall health risk of a patient.\n",
    "\n",
    "Your task is to use this dataset to build a linear regression model to predict the health risk score based on the given predictor variables. Additionally, you will use L1 (Lasso) and L2 (Ridge) regularization techniques to improve the model's performance. "
   ]
  },
  {
   "cell_type": "markdown",
   "id": "e1eac6f0-96bf-499a-94c1-5c16b54373bb",
   "metadata": {},
   "source": [
    "**Import Necessary Libraries**"
   ]
  },
  {
   "cell_type": "code",
   "execution_count": 1,
   "id": "2fd337fd-ceb1-4266-b487-2015d3b47876",
   "metadata": {},
   "outputs": [],
   "source": [
    "# Import necessary libraries\n",
    "import pandas as pd\n",
    "import matplotlib.pyplot as plt"
   ]
  },
  {
   "cell_type": "markdown",
   "id": "33d9a812-9dfb-4323-bc42-04a1fba1b73d",
   "metadata": {},
   "source": [
    "### Task 1: Data Preparation and Exploration\n",
    "\n",
    "1. Import the data from the **`\"patient_health_data.csv\"`** file and store it in a variable df.\n",
    "2. Display the number of rows and columns in the dataset.\n",
    "3. Display the first few rows of the dataset to get an overview.\n",
    "4. Check for any missing values in the dataset and handle them appropriately.\n",
    "5. Encode the categorical variable `'smoking_status'` by converting 'Yes' to 1 and 'No' to 0."
   ]
  },
  {
   "cell_type": "code",
   "execution_count": 20,
   "id": "f9ec42ac-a645-4d39-a809-acfbed5d30fe",
   "metadata": {},
   "outputs": [
    {
     "name": "stdout",
     "output_type": "stream",
     "text": [
      "Number of rows and columns: (250, 12)\n",
      "First few rows of the dataset:\n"
     ]
    },
    {
     "data": {
      "text/html": [
       "<div>\n",
       "<style scoped>\n",
       "    .dataframe tbody tr th:only-of-type {\n",
       "        vertical-align: middle;\n",
       "    }\n",
       "\n",
       "    .dataframe tbody tr th {\n",
       "        vertical-align: top;\n",
       "    }\n",
       "\n",
       "    .dataframe thead th {\n",
       "        text-align: right;\n",
       "    }\n",
       "</style>\n",
       "<table border=\"1\" class=\"dataframe\">\n",
       "  <thead>\n",
       "    <tr style=\"text-align: right;\">\n",
       "      <th></th>\n",
       "      <th>age</th>\n",
       "      <th>bmi</th>\n",
       "      <th>blood_pressure</th>\n",
       "      <th>cholesterol</th>\n",
       "      <th>glucose</th>\n",
       "      <th>insulin</th>\n",
       "      <th>heart_rate</th>\n",
       "      <th>activity_level</th>\n",
       "      <th>diet_quality</th>\n",
       "      <th>smoking_status</th>\n",
       "      <th>alcohol_intake</th>\n",
       "      <th>health_risk_score</th>\n",
       "    </tr>\n",
       "  </thead>\n",
       "  <tbody>\n",
       "    <tr>\n",
       "      <th>0</th>\n",
       "      <td>58</td>\n",
       "      <td>24.865215</td>\n",
       "      <td>122.347094</td>\n",
       "      <td>165.730375</td>\n",
       "      <td>149.289441</td>\n",
       "      <td>22.306844</td>\n",
       "      <td>75.866391</td>\n",
       "      <td>1.180237</td>\n",
       "      <td>7.675409</td>\n",
       "      <td>No</td>\n",
       "      <td>0.824123</td>\n",
       "      <td>150.547752</td>\n",
       "    </tr>\n",
       "    <tr>\n",
       "      <th>1</th>\n",
       "      <td>71</td>\n",
       "      <td>19.103168</td>\n",
       "      <td>136.852028</td>\n",
       "      <td>260.610781</td>\n",
       "      <td>158.584646</td>\n",
       "      <td>13.869817</td>\n",
       "      <td>69.481114</td>\n",
       "      <td>7.634622</td>\n",
       "      <td>8.933057</td>\n",
       "      <td>No</td>\n",
       "      <td>0.852910</td>\n",
       "      <td>160.320350</td>\n",
       "    </tr>\n",
       "    <tr>\n",
       "      <th>2</th>\n",
       "      <td>48</td>\n",
       "      <td>22.316562</td>\n",
       "      <td>137.592457</td>\n",
       "      <td>177.342582</td>\n",
       "      <td>178.760166</td>\n",
       "      <td>22.849816</td>\n",
       "      <td>69.386962</td>\n",
       "      <td>7.917398</td>\n",
       "      <td>3.501119</td>\n",
       "      <td>Yes</td>\n",
       "      <td>4.740542</td>\n",
       "      <td>187.487398</td>\n",
       "    </tr>\n",
       "    <tr>\n",
       "      <th>3</th>\n",
       "      <td>34</td>\n",
       "      <td>22.196893</td>\n",
       "      <td>153.164775</td>\n",
       "      <td>234.594764</td>\n",
       "      <td>136.351714</td>\n",
       "      <td>15.140336</td>\n",
       "      <td>95.348387</td>\n",
       "      <td>3.192910</td>\n",
       "      <td>2.745585</td>\n",
       "      <td>No</td>\n",
       "      <td>2.226231</td>\n",
       "      <td>148.773138</td>\n",
       "    </tr>\n",
       "    <tr>\n",
       "      <th>4</th>\n",
       "      <td>62</td>\n",
       "      <td>29.837173</td>\n",
       "      <td>92.768973</td>\n",
       "      <td>276.106498</td>\n",
       "      <td>158.753516</td>\n",
       "      <td>17.228576</td>\n",
       "      <td>77.680975</td>\n",
       "      <td>7.044026</td>\n",
       "      <td>8.918348</td>\n",
       "      <td>No</td>\n",
       "      <td>3.944011</td>\n",
       "      <td>170.609655</td>\n",
       "    </tr>\n",
       "  </tbody>\n",
       "</table>\n",
       "</div>"
      ],
      "text/plain": [
       "   age        bmi  blood_pressure  cholesterol     glucose    insulin  \\\n",
       "0   58  24.865215      122.347094   165.730375  149.289441  22.306844   \n",
       "1   71  19.103168      136.852028   260.610781  158.584646  13.869817   \n",
       "2   48  22.316562      137.592457   177.342582  178.760166  22.849816   \n",
       "3   34  22.196893      153.164775   234.594764  136.351714  15.140336   \n",
       "4   62  29.837173       92.768973   276.106498  158.753516  17.228576   \n",
       "\n",
       "   heart_rate  activity_level  diet_quality smoking_status  alcohol_intake  \\\n",
       "0   75.866391        1.180237      7.675409             No        0.824123   \n",
       "1   69.481114        7.634622      8.933057             No        0.852910   \n",
       "2   69.386962        7.917398      3.501119            Yes        4.740542   \n",
       "3   95.348387        3.192910      2.745585             No        2.226231   \n",
       "4   77.680975        7.044026      8.918348             No        3.944011   \n",
       "\n",
       "   health_risk_score  \n",
       "0         150.547752  \n",
       "1         160.320350  \n",
       "2         187.487398  \n",
       "3         148.773138  \n",
       "4         170.609655  "
      ]
     },
     "execution_count": 20,
     "metadata": {},
     "output_type": "execute_result"
    }
   ],
   "source": [
    "# Step 1: Import the data from the \"patient_health_data.csv\" file and store it in a variable 'df'\n",
    "df = pd.read_csv(\"patient_health_data.csv\")\n",
    "\n",
    "# Step 2: Display the number of rows and columns in the dataset\n",
    "print(\"Number of rows and columns:\", df.shape)\n",
    "\n",
    "# Step 3: Display the first few rows of the dataset to get an overview\n",
    "print(\"First few rows of the dataset:\")\n",
    "df.head()"
   ]
  },
  {
   "cell_type": "code",
   "execution_count": 21,
   "id": "544ecea9-7860-4623-97ee-5218ee729282",
   "metadata": {},
   "outputs": [
    {
     "data": {
      "text/plain": [
       "age                  0\n",
       "bmi                  0\n",
       "blood_pressure       0\n",
       "cholesterol          0\n",
       "glucose              0\n",
       "insulin              0\n",
       "heart_rate           0\n",
       "activity_level       0\n",
       "diet_quality         0\n",
       "smoking_status       0\n",
       "alcohol_intake       0\n",
       "health_risk_score    0\n",
       "dtype: int64"
      ]
     },
     "execution_count": 21,
     "metadata": {},
     "output_type": "execute_result"
    }
   ],
   "source": [
    "# Step 4: Check for any missing values in the dataset and handle them appropriately\n",
    "df.isna().sum()"
   ]
  },
  {
   "cell_type": "code",
   "execution_count": 23,
   "id": "f66339cd-ea78-443c-855c-9ebd9c936aa4",
   "metadata": {},
   "outputs": [],
   "source": [
    "# Step 5: Encode the categorical variable 'smoking_status' by converting 'Yes' to 1 and 'No' to 0.\n",
    "df[\"smoking_status\"]=df[\"smoking_status\"].apply(lambda x: 1 if x==\"Yes\" else 0)"
   ]
  },
  {
   "cell_type": "code",
   "execution_count": 24,
   "id": "94d06c11",
   "metadata": {},
   "outputs": [
    {
     "data": {
      "text/html": [
       "<div>\n",
       "<style scoped>\n",
       "    .dataframe tbody tr th:only-of-type {\n",
       "        vertical-align: middle;\n",
       "    }\n",
       "\n",
       "    .dataframe tbody tr th {\n",
       "        vertical-align: top;\n",
       "    }\n",
       "\n",
       "    .dataframe thead th {\n",
       "        text-align: right;\n",
       "    }\n",
       "</style>\n",
       "<table border=\"1\" class=\"dataframe\">\n",
       "  <thead>\n",
       "    <tr style=\"text-align: right;\">\n",
       "      <th></th>\n",
       "      <th>age</th>\n",
       "      <th>bmi</th>\n",
       "      <th>blood_pressure</th>\n",
       "      <th>cholesterol</th>\n",
       "      <th>glucose</th>\n",
       "      <th>insulin</th>\n",
       "      <th>heart_rate</th>\n",
       "      <th>activity_level</th>\n",
       "      <th>diet_quality</th>\n",
       "      <th>smoking_status</th>\n",
       "      <th>alcohol_intake</th>\n",
       "      <th>health_risk_score</th>\n",
       "    </tr>\n",
       "  </thead>\n",
       "  <tbody>\n",
       "    <tr>\n",
       "      <th>0</th>\n",
       "      <td>58</td>\n",
       "      <td>24.865215</td>\n",
       "      <td>122.347094</td>\n",
       "      <td>165.730375</td>\n",
       "      <td>149.289441</td>\n",
       "      <td>22.306844</td>\n",
       "      <td>75.866391</td>\n",
       "      <td>1.180237</td>\n",
       "      <td>7.675409</td>\n",
       "      <td>0</td>\n",
       "      <td>0.824123</td>\n",
       "      <td>150.547752</td>\n",
       "    </tr>\n",
       "    <tr>\n",
       "      <th>1</th>\n",
       "      <td>71</td>\n",
       "      <td>19.103168</td>\n",
       "      <td>136.852028</td>\n",
       "      <td>260.610781</td>\n",
       "      <td>158.584646</td>\n",
       "      <td>13.869817</td>\n",
       "      <td>69.481114</td>\n",
       "      <td>7.634622</td>\n",
       "      <td>8.933057</td>\n",
       "      <td>0</td>\n",
       "      <td>0.852910</td>\n",
       "      <td>160.320350</td>\n",
       "    </tr>\n",
       "    <tr>\n",
       "      <th>2</th>\n",
       "      <td>48</td>\n",
       "      <td>22.316562</td>\n",
       "      <td>137.592457</td>\n",
       "      <td>177.342582</td>\n",
       "      <td>178.760166</td>\n",
       "      <td>22.849816</td>\n",
       "      <td>69.386962</td>\n",
       "      <td>7.917398</td>\n",
       "      <td>3.501119</td>\n",
       "      <td>1</td>\n",
       "      <td>4.740542</td>\n",
       "      <td>187.487398</td>\n",
       "    </tr>\n",
       "    <tr>\n",
       "      <th>3</th>\n",
       "      <td>34</td>\n",
       "      <td>22.196893</td>\n",
       "      <td>153.164775</td>\n",
       "      <td>234.594764</td>\n",
       "      <td>136.351714</td>\n",
       "      <td>15.140336</td>\n",
       "      <td>95.348387</td>\n",
       "      <td>3.192910</td>\n",
       "      <td>2.745585</td>\n",
       "      <td>0</td>\n",
       "      <td>2.226231</td>\n",
       "      <td>148.773138</td>\n",
       "    </tr>\n",
       "    <tr>\n",
       "      <th>4</th>\n",
       "      <td>62</td>\n",
       "      <td>29.837173</td>\n",
       "      <td>92.768973</td>\n",
       "      <td>276.106498</td>\n",
       "      <td>158.753516</td>\n",
       "      <td>17.228576</td>\n",
       "      <td>77.680975</td>\n",
       "      <td>7.044026</td>\n",
       "      <td>8.918348</td>\n",
       "      <td>0</td>\n",
       "      <td>3.944011</td>\n",
       "      <td>170.609655</td>\n",
       "    </tr>\n",
       "    <tr>\n",
       "      <th>...</th>\n",
       "      <td>...</td>\n",
       "      <td>...</td>\n",
       "      <td>...</td>\n",
       "      <td>...</td>\n",
       "      <td>...</td>\n",
       "      <td>...</td>\n",
       "      <td>...</td>\n",
       "      <td>...</td>\n",
       "      <td>...</td>\n",
       "      <td>...</td>\n",
       "      <td>...</td>\n",
       "      <td>...</td>\n",
       "    </tr>\n",
       "    <tr>\n",
       "      <th>245</th>\n",
       "      <td>73</td>\n",
       "      <td>33.923019</td>\n",
       "      <td>154.961623</td>\n",
       "      <td>239.257347</td>\n",
       "      <td>175.833417</td>\n",
       "      <td>11.178057</td>\n",
       "      <td>99.249455</td>\n",
       "      <td>8.894246</td>\n",
       "      <td>1.837274</td>\n",
       "      <td>0</td>\n",
       "      <td>3.200992</td>\n",
       "      <td>162.542038</td>\n",
       "    </tr>\n",
       "    <tr>\n",
       "      <th>246</th>\n",
       "      <td>51</td>\n",
       "      <td>18.666168</td>\n",
       "      <td>83.047215</td>\n",
       "      <td>200.890687</td>\n",
       "      <td>82.041575</td>\n",
       "      <td>21.733684</td>\n",
       "      <td>78.995462</td>\n",
       "      <td>4.904205</td>\n",
       "      <td>1.264277</td>\n",
       "      <td>0</td>\n",
       "      <td>1.492175</td>\n",
       "      <td>136.146456</td>\n",
       "    </tr>\n",
       "    <tr>\n",
       "      <th>247</th>\n",
       "      <td>51</td>\n",
       "      <td>25.105083</td>\n",
       "      <td>166.721498</td>\n",
       "      <td>235.416528</td>\n",
       "      <td>168.392792</td>\n",
       "      <td>2.207699</td>\n",
       "      <td>75.301051</td>\n",
       "      <td>2.447634</td>\n",
       "      <td>8.406626</td>\n",
       "      <td>0</td>\n",
       "      <td>1.201912</td>\n",
       "      <td>156.758986</td>\n",
       "    </tr>\n",
       "    <tr>\n",
       "      <th>248</th>\n",
       "      <td>43</td>\n",
       "      <td>34.448869</td>\n",
       "      <td>115.414667</td>\n",
       "      <td>283.119072</td>\n",
       "      <td>179.062287</td>\n",
       "      <td>15.533491</td>\n",
       "      <td>64.793160</td>\n",
       "      <td>6.022381</td>\n",
       "      <td>2.887777</td>\n",
       "      <td>0</td>\n",
       "      <td>1.559495</td>\n",
       "      <td>204.649145</td>\n",
       "    </tr>\n",
       "    <tr>\n",
       "      <th>249</th>\n",
       "      <td>60</td>\n",
       "      <td>27.315522</td>\n",
       "      <td>119.716383</td>\n",
       "      <td>233.508238</td>\n",
       "      <td>76.766873</td>\n",
       "      <td>15.770422</td>\n",
       "      <td>98.966585</td>\n",
       "      <td>8.305770</td>\n",
       "      <td>4.411244</td>\n",
       "      <td>1</td>\n",
       "      <td>1.280238</td>\n",
       "      <td>106.408929</td>\n",
       "    </tr>\n",
       "  </tbody>\n",
       "</table>\n",
       "<p>250 rows × 12 columns</p>\n",
       "</div>"
      ],
      "text/plain": [
       "     age        bmi  blood_pressure  cholesterol     glucose    insulin  \\\n",
       "0     58  24.865215      122.347094   165.730375  149.289441  22.306844   \n",
       "1     71  19.103168      136.852028   260.610781  158.584646  13.869817   \n",
       "2     48  22.316562      137.592457   177.342582  178.760166  22.849816   \n",
       "3     34  22.196893      153.164775   234.594764  136.351714  15.140336   \n",
       "4     62  29.837173       92.768973   276.106498  158.753516  17.228576   \n",
       "..   ...        ...             ...          ...         ...        ...   \n",
       "245   73  33.923019      154.961623   239.257347  175.833417  11.178057   \n",
       "246   51  18.666168       83.047215   200.890687   82.041575  21.733684   \n",
       "247   51  25.105083      166.721498   235.416528  168.392792   2.207699   \n",
       "248   43  34.448869      115.414667   283.119072  179.062287  15.533491   \n",
       "249   60  27.315522      119.716383   233.508238   76.766873  15.770422   \n",
       "\n",
       "     heart_rate  activity_level  diet_quality  smoking_status  alcohol_intake  \\\n",
       "0     75.866391        1.180237      7.675409               0        0.824123   \n",
       "1     69.481114        7.634622      8.933057               0        0.852910   \n",
       "2     69.386962        7.917398      3.501119               1        4.740542   \n",
       "3     95.348387        3.192910      2.745585               0        2.226231   \n",
       "4     77.680975        7.044026      8.918348               0        3.944011   \n",
       "..          ...             ...           ...             ...             ...   \n",
       "245   99.249455        8.894246      1.837274               0        3.200992   \n",
       "246   78.995462        4.904205      1.264277               0        1.492175   \n",
       "247   75.301051        2.447634      8.406626               0        1.201912   \n",
       "248   64.793160        6.022381      2.887777               0        1.559495   \n",
       "249   98.966585        8.305770      4.411244               1        1.280238   \n",
       "\n",
       "     health_risk_score  \n",
       "0           150.547752  \n",
       "1           160.320350  \n",
       "2           187.487398  \n",
       "3           148.773138  \n",
       "4           170.609655  \n",
       "..                 ...  \n",
       "245         162.542038  \n",
       "246         136.146456  \n",
       "247         156.758986  \n",
       "248         204.649145  \n",
       "249         106.408929  \n",
       "\n",
       "[250 rows x 12 columns]"
      ]
     },
     "execution_count": 24,
     "metadata": {},
     "output_type": "execute_result"
    }
   ],
   "source": [
    "df"
   ]
  },
  {
   "cell_type": "code",
   "execution_count": 25,
   "id": "8884b7ab",
   "metadata": {},
   "outputs": [
    {
     "data": {
      "text/html": [
       "<div>\n",
       "<style scoped>\n",
       "    .dataframe tbody tr th:only-of-type {\n",
       "        vertical-align: middle;\n",
       "    }\n",
       "\n",
       "    .dataframe tbody tr th {\n",
       "        vertical-align: top;\n",
       "    }\n",
       "\n",
       "    .dataframe thead th {\n",
       "        text-align: right;\n",
       "    }\n",
       "</style>\n",
       "<table border=\"1\" class=\"dataframe\">\n",
       "  <thead>\n",
       "    <tr style=\"text-align: right;\">\n",
       "      <th></th>\n",
       "      <th>age</th>\n",
       "      <th>bmi</th>\n",
       "      <th>blood_pressure</th>\n",
       "      <th>cholesterol</th>\n",
       "      <th>glucose</th>\n",
       "      <th>insulin</th>\n",
       "      <th>heart_rate</th>\n",
       "      <th>activity_level</th>\n",
       "      <th>diet_quality</th>\n",
       "      <th>smoking_status</th>\n",
       "      <th>alcohol_intake</th>\n",
       "      <th>health_risk_score</th>\n",
       "    </tr>\n",
       "  </thead>\n",
       "  <tbody>\n",
       "    <tr>\n",
       "      <th>154</th>\n",
       "      <td>43</td>\n",
       "      <td>18.660190</td>\n",
       "      <td>100.722765</td>\n",
       "      <td>170.867429</td>\n",
       "      <td>142.782069</td>\n",
       "      <td>24.481727</td>\n",
       "      <td>91.736290</td>\n",
       "      <td>9.894477</td>\n",
       "      <td>5.905950</td>\n",
       "      <td>0</td>\n",
       "      <td>0.496511</td>\n",
       "      <td>128.780001</td>\n",
       "    </tr>\n",
       "    <tr>\n",
       "      <th>47</th>\n",
       "      <td>71</td>\n",
       "      <td>21.885350</td>\n",
       "      <td>122.609148</td>\n",
       "      <td>257.768591</td>\n",
       "      <td>146.034404</td>\n",
       "      <td>20.142561</td>\n",
       "      <td>65.029660</td>\n",
       "      <td>5.314190</td>\n",
       "      <td>6.394321</td>\n",
       "      <td>1</td>\n",
       "      <td>4.399313</td>\n",
       "      <td>180.297445</td>\n",
       "    </tr>\n",
       "    <tr>\n",
       "      <th>39</th>\n",
       "      <td>47</td>\n",
       "      <td>24.758724</td>\n",
       "      <td>153.703556</td>\n",
       "      <td>284.491539</td>\n",
       "      <td>151.585564</td>\n",
       "      <td>4.954321</td>\n",
       "      <td>60.695192</td>\n",
       "      <td>3.902752</td>\n",
       "      <td>8.868362</td>\n",
       "      <td>0</td>\n",
       "      <td>1.092549</td>\n",
       "      <td>175.756101</td>\n",
       "    </tr>\n",
       "  </tbody>\n",
       "</table>\n",
       "</div>"
      ],
      "text/plain": [
       "     age        bmi  blood_pressure  cholesterol     glucose    insulin  \\\n",
       "154   43  18.660190      100.722765   170.867429  142.782069  24.481727   \n",
       "47    71  21.885350      122.609148   257.768591  146.034404  20.142561   \n",
       "39    47  24.758724      153.703556   284.491539  151.585564   4.954321   \n",
       "\n",
       "     heart_rate  activity_level  diet_quality  smoking_status  alcohol_intake  \\\n",
       "154   91.736290        9.894477      5.905950               0        0.496511   \n",
       "47    65.029660        5.314190      6.394321               1        4.399313   \n",
       "39    60.695192        3.902752      8.868362               0        1.092549   \n",
       "\n",
       "     health_risk_score  \n",
       "154         128.780001  \n",
       "47          180.297445  \n",
       "39          175.756101  "
      ]
     },
     "execution_count": 25,
     "metadata": {},
     "output_type": "execute_result"
    }
   ],
   "source": [
    "df.sample(3)"
   ]
  },
  {
   "cell_type": "markdown",
   "id": "f16b6366-41ba-4f54-a398-30b7d04fa741",
   "metadata": {},
   "source": [
    "### Task 2: Train Linear Regression Models\n",
    "\n",
    "1. Select the features and the target variable for modeling.\n",
    "2. Split the data into training and test sets with a test size of 25%.\n",
    "3. Initialize and train a Linear Regression model, and evaluate its performance using R-squared.\n",
    "4. Initialize and train a Lasso Regression model with various alpha values provided in a list: [0.01, 0.1, 1.0, 10.0], and evaluate its performance using R-squared.\n",
    "5. Initialize and train a Ridge Regression model with various alpha values provided in a list: [0.01, 0.1, 1.0, 10.0], and evaluate its performance using R-squared."
   ]
  },
  {
   "cell_type": "code",
   "execution_count": 26,
   "id": "10384638-ccbf-4ff0-a3f7-b1761f083aab",
   "metadata": {},
   "outputs": [],
   "source": [
    "# Step 1: Select the features and target variable for modeling\n",
    "from sklearn.linear_model import LinearRegression\n",
    "from sklearn.metrics import r2_score,mean_squared_error\n",
    "from sklearn.model_selection import train_test_split\n",
    "model=LinearRegression()\n",
    "# Step 2: Split the data into training and test sets with a test size of 25%\n",
    "X = df.drop(['health_risk_score'], axis=1)\n",
    "y = df['health_risk_score']\n",
    "\n",
    "# Step 2: Split the data into training and test sets with a test size of 25%\n",
    "X_train, X_test, y_train, y_test = train_test_split(X, y, test_size=0.25, random_state=42)\n"
   ]
  },
  {
   "cell_type": "code",
   "execution_count": 30,
   "id": "d78f133c-a91c-4022-a29d-b56f83d3c76e",
   "metadata": {},
   "outputs": [
    {
     "data": {
      "text/plain": [
       "0.764362090675749"
      ]
     },
     "execution_count": 30,
     "metadata": {},
     "output_type": "execute_result"
    }
   ],
   "source": [
    "# Step 3: Initialize and train a Linear Regression model, and evaluate its performance using R-squared\n",
    "model.fit(X_train,y_train)\n",
    "y_pred=model.predict(X_test)\n",
    "r2_score(y_test,y_pred)"
   ]
  },
  {
   "cell_type": "code",
   "execution_count": 35,
   "id": "e4d10153",
   "metadata": {},
   "outputs": [
    {
     "name": "stdout",
     "output_type": "stream",
     "text": [
      "Lasso Regression R-squared (alpha=0.01): 0.7645437646395712\n",
      "Lasso Regression R-squared (alpha=0.1): 0.7660509914802163\n",
      "Lasso Regression R-squared (alpha=1.0): 0.7819763683575139\n",
      "Lasso Regression R-squared (alpha=10.0): 0.7873364302158369\n"
     ]
    }
   ],
   "source": [
    "lasso_alphas = [0.01, 0.1, 1.0, 10.0]\n",
    "for alpha in lasso_alphas:\n",
    "    lasso_model = Lasso(alpha=alpha)\n",
    "    lasso_model.fit(X_train, y_train)\n",
    "    lasso_r2 = lasso_model.score(X_test, y_test)\n",
    "    print(f\"Lasso Regression R-squared (alpha={alpha}):\", lasso_r2)"
   ]
  },
  {
   "cell_type": "code",
   "execution_count": 37,
   "id": "9f4e756b-561b-4a42-b674-4d852482ea7c",
   "metadata": {},
   "outputs": [
    {
     "name": "stdout",
     "output_type": "stream",
     "text": [
      "0.7645437646395712\n",
      "0.7660509914802163\n",
      "0.7819763683575139\n",
      "0.7873364302158369\n"
     ]
    }
   ],
   "source": [
    "# Step 4: Initialize and train a Lasso Regression model with various alpha values provided in a list, and evaluate its performance using R-squared\n",
    "from sklearn.linear_model import Lasso ,Ridge\n",
    "alpha_scr=[0.01, 0.1, 1.0, 10.0]\n",
    "for i in alpha_scr:\n",
    "    lass=Lasso(alpha=i)\n",
    "    lass.fit(X_train,y_train)\n",
    "#     lass_y_pred=lass.predict(X_test)\n",
    "    lass_scr=lass.score(X_test,y_test)\n",
    "    print(lass_scr)\n",
    "    \n"
   ]
  },
  {
   "cell_type": "code",
   "execution_count": 38,
   "id": "45206af6-ea76-4947-abac-681008cb3857",
   "metadata": {},
   "outputs": [
    {
     "name": "stdout",
     "output_type": "stream",
     "text": [
      "0.764363158939054\n",
      "0.7643727707489341\n",
      "0.7644686367656155\n",
      "0.7654030812954535\n"
     ]
    }
   ],
   "source": [
    "# Step 5: Initialize and train a Ridge Regression model with various alpha values provided in a list, and evaluate its performance using R-squared\n",
    "alpha_scr=[0.01, 0.1, 1.0, 10.0]\n",
    "for i in alpha_scr:\n",
    "    rdg=Ridge(alpha=i)\n",
    "    rdg.fit(X_train,y_train)\n",
    "#     lass_y_pred=lass.predict(X_test)\n",
    "    rdg_scr=rdg.score(X_test,y_test)\n",
    "    print(rdg_scr)\n",
    "    "
   ]
  },
  {
   "cell_type": "code",
   "execution_count": 39,
   "id": "09ca7e91",
   "metadata": {},
   "outputs": [
    {
     "data": {
      "text/plain": [
       "array([ 0.34392938,  0.10347539,  0.29308944,  0.18334059,  0.52992792,\n",
       "        0.39522627, -0.54453356, -0.67791659, -1.11179359,  0.39935093,\n",
       "       -0.968424  ])"
      ]
     },
     "execution_count": 39,
     "metadata": {},
     "output_type": "execute_result"
    }
   ],
   "source": [
    "rdg.coef_"
   ]
  },
  {
   "cell_type": "code",
   "execution_count": 40,
   "id": "e6e5d44e",
   "metadata": {},
   "outputs": [
    {
     "data": {
      "text/plain": [
       "array([ 0.28820889,  0.        ,  0.30265323,  0.17999586,  0.52419905,\n",
       "        0.14579411, -0.4822855 , -0.        , -0.        ,  0.        ,\n",
       "       -0.        ])"
      ]
     },
     "execution_count": 40,
     "metadata": {},
     "output_type": "execute_result"
    }
   ],
   "source": [
    "lass.coef_"
   ]
  },
  {
   "cell_type": "code",
   "execution_count": 41,
   "id": "3e70c11c",
   "metadata": {},
   "outputs": [
    {
     "data": {
      "text/plain": [
       "array([ 0.34418045,  0.10327706,  0.29276989,  0.18342512,  0.53001696,\n",
       "        0.39607504, -0.54400426, -0.68687515, -1.12172705,  0.49876073,\n",
       "       -1.00163997])"
      ]
     },
     "execution_count": 41,
     "metadata": {},
     "output_type": "execute_result"
    }
   ],
   "source": [
    "model.coef_"
   ]
  },
  {
   "cell_type": "code",
   "execution_count": null,
   "id": "8aee3a8e",
   "metadata": {},
   "outputs": [],
   "source": []
  }
 ],
 "metadata": {
  "kernelspec": {
   "display_name": "Python 3 (ipykernel)",
   "language": "python",
   "name": "python3"
  },
  "language_info": {
   "codemirror_mode": {
    "name": "ipython",
    "version": 3
   },
   "file_extension": ".py",
   "mimetype": "text/x-python",
   "name": "python",
   "nbconvert_exporter": "python",
   "pygments_lexer": "ipython3",
   "version": "3.11.9"
  }
 },
 "nbformat": 4,
 "nbformat_minor": 5
}
