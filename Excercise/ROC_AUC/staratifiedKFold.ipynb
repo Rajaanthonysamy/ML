{
 "cells": [
  {
   "cell_type": "code",
   "execution_count": 3,
   "id": "c7a02dc1-8182-49d4-b065-32702d0a62da",
   "metadata": {},
   "outputs": [],
   "source": [
    "from sklearn.datasets import make_classification\n",
    "import matplotlib.pyplot as plt\n",
    "import pandas as pd\n",
    "from sklearn.linear_model import LogisticRegression\n",
    "from sklearn.model_selection import train_test_split\n",
    "from sklearn.metrics import classification_report\n"
   ]
  },
  {
   "cell_type": "code",
   "execution_count": 18,
   "id": "9e3d5e9f-d645-4104-b387-0f72a1ec0da3",
   "metadata": {},
   "outputs": [],
   "source": [
    "X,y=make_classification(\n",
    "    n_features=10,\n",
    "    n_samples=1000,\n",
    "    n_informative=4,\n",
    "    n_repeated=0,\n",
    "    n_redundant=6,\n",
    "    n_classes=2,\n",
    "    weights=[0.9,0.1],\n",
    "    random_state=42\n",
    ")\n",
    "\n"
   ]
  },
  {
   "cell_type": "code",
   "execution_count": null,
   "id": "7fdef09e-7a04-4a88-9c62-31a402e41010",
   "metadata": {},
   "outputs": [],
   "source": []
  },
  {
   "cell_type": "code",
   "execution_count": 20,
   "id": "b3db91fb-d4d2-4345-b2d8-799f16c51420",
   "metadata": {},
   "outputs": [],
   "source": [
    "X_train,X_test,y_train,y_test=train_test_split(X,y,random_state=42,test_size=0.25)\n",
    "model=LogisticRegression()\n",
    "model.fit(X_train,y_train)\n",
    "y_pred=model.predict(X_test)\n",
    "report=classification_report(y_test,y_pred)"
   ]
  },
  {
   "cell_type": "code",
   "execution_count": 22,
   "id": "9ee99e0f-58ec-4e4a-a6b4-08d72bff9435",
   "metadata": {},
   "outputs": [
    {
     "name": "stdout",
     "output_type": "stream",
     "text": [
      "Counter({0: 174, 1: 26})\n",
      "Counter({0: 181, 1: 19})\n",
      "Counter({0: 179, 1: 21})\n",
      "Counter({0: 182, 1: 18})\n",
      "Counter({0: 176, 1: 24})\n"
     ]
    }
   ],
   "source": [
    "from collections import Counter\n",
    "score=[]\n",
    "from sklearn.model_selection import KFold\n",
    "kf=KFold(n_splits=5,shuffle=True,random_state=42)\n",
    "for train_index , test_index in kf.split(X,y):\n",
    "    X_train, X_test= X[train_index] , X[test_index]\n",
    "    y_train,y_test= y[train_index] , y[test_index]\n",
    "    model.fit(X_train,y_train)\n",
    "    score.append(model.score(X_test,y_test))\n",
    "    print(Counter(y_test))"
   ]
  },
  {
   "cell_type": "code",
   "execution_count": null,
   "id": "492135e4-1c30-4da6-9b25-b78602ea8663",
   "metadata": {},
   "outputs": [],
   "source": []
  },
  {
   "cell_type": "code",
   "execution_count": 25,
   "id": "dabaec83-58a4-4a0c-9038-a4c67db9dd1a",
   "metadata": {},
   "outputs": [
    {
     "name": "stdout",
     "output_type": "stream",
     "text": [
      "Counter({0: 179, 1: 21})\n",
      "Counter({0: 179, 1: 21})\n",
      "Counter({0: 178, 1: 22})\n",
      "Counter({0: 178, 1: 22})\n",
      "Counter({0: 178, 1: 22})\n"
     ]
    }
   ],
   "source": [
    "from sklearn.model_selection import StratifiedKFold\n",
    "\n",
    "skf=StratifiedKFold(n_splits=5,shuffle=True, random_state=42)\n",
    "\n",
    "for train_index , test_index in skf.split(X,y):\n",
    "    X_train, X_test= X[train_index] , X[test_index]\n",
    "    y_train,y_test= y[train_index] , y[test_index]\n",
    "    print(Counter(y_test))\n",
    "    "
   ]
  },
  {
   "cell_type": "code",
   "execution_count": 31,
   "id": "0a4e07c5-d660-4654-a25a-4aa0d3117648",
   "metadata": {},
   "outputs": [],
   "source": [
    "from sklearn.model_selection import KFold\n",
    "kf=KFold(n_splits=5,shuffle=True,random_state=42)\n",
    "model=LogisticRegression()\n",
    "scores=[]\n",
    "for train_index,test_index in kf.split(X,y):\n",
    "    X_train , X_test =X[train_index],X[test_index]\n",
    "    y_train, y_test =y[train_index] , y[test_index]\n",
    "    model.fit(X_train,y_train)\n",
    "    scores.append(model.score(X_test,y_test))"
   ]
  },
  {
   "cell_type": "code",
   "execution_count": 33,
   "id": "adacb26a-daa2-414c-ab5b-946138afb428",
   "metadata": {},
   "outputs": [
    {
     "data": {
      "text/plain": [
       "[0.88, 0.905, 0.905, 0.915, 0.89]"
      ]
     },
     "execution_count": 33,
     "metadata": {},
     "output_type": "execute_result"
    }
   ],
   "source": [
    "scores"
   ]
  },
  {
   "cell_type": "code",
   "execution_count": 35,
   "id": "a7318f42-273a-4949-a1fb-5c283f28d5fe",
   "metadata": {},
   "outputs": [
    {
     "data": {
      "text/plain": [
       "array([0.88 , 0.905, 0.905, 0.915, 0.89 ])"
      ]
     },
     "execution_count": 35,
     "metadata": {},
     "output_type": "execute_result"
    }
   ],
   "source": [
    "from sklearn.model_selection import cross_val_score\n",
    "\n",
    "cross_val_score(LogisticRegression(),X,y,cv=kf)"
   ]
  },
  {
   "cell_type": "code",
   "execution_count": null,
   "id": "612f2c6e-893e-4129-8d34-ee5961ff1734",
   "metadata": {},
   "outputs": [],
   "source": []
  }
 ],
 "metadata": {
  "kernelspec": {
   "display_name": "Python 3 (ipykernel)",
   "language": "python",
   "name": "python3"
  },
  "language_info": {
   "codemirror_mode": {
    "name": "ipython",
    "version": 3
   },
   "file_extension": ".py",
   "mimetype": "text/x-python",
   "name": "python",
   "nbconvert_exporter": "python",
   "pygments_lexer": "ipython3",
   "version": "3.11.9"
  }
 },
 "nbformat": 4,
 "nbformat_minor": 5
}
