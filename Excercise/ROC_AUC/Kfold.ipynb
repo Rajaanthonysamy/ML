{
 "cells": [
  {
   "cell_type": "code",
   "execution_count": 5,
   "id": "e43b5ad5-1cc4-4c35-b201-3b179f5c71e4",
   "metadata": {},
   "outputs": [],
   "source": [
    "from sklearn.datasets import make_classification\n",
    "import matplotlib.pyplot as plt\n",
    "import pandas as pd\n",
    "from sklearn.linear_model import LogisticRegression\n",
    "from sklearn.model_selection import train_test_split\n",
    "from sklearn.metrics import classification_report\n"
   ]
  },
  {
   "cell_type": "code",
   "execution_count": 7,
   "id": "59baeb8f-e477-4bda-b6f7-acd4932fe6fd",
   "metadata": {},
   "outputs": [],
   "source": [
    "X,y=make_classification(\n",
    "    n_features=10,\n",
    "    n_samples=1000,\n",
    "    n_informative=4,\n",
    "    n_repeated=0,\n",
    "    n_redundant=6,\n",
    "    n_classes=2,\n",
    "    random_state=42\n",
    ")\n",
    "\n"
   ]
  },
  {
   "cell_type": "code",
   "execution_count": 9,
   "id": "cbc4caf9-60bd-4650-85dd-aa9eb1698c21",
   "metadata": {},
   "outputs": [],
   "source": [
    "X_train,X_test,y_train,y_test=train_test_split(X,y,random_state=42,test_size=0.25)\n",
    "model=LogisticRegression()\n",
    "model.fit(X_train,y_train)\n",
    "y_pred=model.predict(X_test)\n",
    "report=classification_report(y_test,y_pred)"
   ]
  },
  {
   "cell_type": "code",
   "execution_count": 11,
   "id": "256efa60-f327-4be0-a519-07619effafd0",
   "metadata": {},
   "outputs": [
    {
     "name": "stdout",
     "output_type": "stream",
     "text": [
      "              precision    recall  f1-score   support\n",
      "\n",
      "           0       0.66      0.69      0.67       122\n",
      "           1       0.69      0.66      0.68       128\n",
      "\n",
      "    accuracy                           0.68       250\n",
      "   macro avg       0.68      0.68      0.68       250\n",
      "weighted avg       0.68      0.68      0.68       250\n",
      "\n"
     ]
    }
   ],
   "source": [
    "print(report)"
   ]
  },
  {
   "cell_type": "code",
   "execution_count": 15,
   "id": "06d09ec7-9709-451b-8eef-4de707300df3",
   "metadata": {},
   "outputs": [],
   "source": [
    "score=[]\n",
    "from sklearn.model_selection import KFold\n",
    "kf=KFold(n_splits=5,shuffle=True,random_state=42)\n",
    "for train_index , test_index in kf.split(X,y):\n",
    "    X_train, X_test= X[train_index] , X[test_index]\n",
    "    y_train,y_test= y[train_index] , y[test_index]\n",
    "    model.fit(X_train,y_train)\n",
    "    score.append(model.score(X_test,y_test))"
   ]
  },
  {
   "cell_type": "code",
   "execution_count": 17,
   "id": "8288d17f-1d83-4492-bcdb-0eb8555c8e32",
   "metadata": {},
   "outputs": [
    {
     "data": {
      "text/plain": [
       "[0.705, 0.63, 0.73, 0.765, 0.69]"
      ]
     },
     "execution_count": 17,
     "metadata": {},
     "output_type": "execute_result"
    }
   ],
   "source": [
    "score"
   ]
  },
  {
   "cell_type": "code",
   "execution_count": 21,
   "id": "8b370da3-9b10-4bc8-a7c3-7cd6131a139d",
   "metadata": {},
   "outputs": [
    {
     "data": {
      "text/plain": [
       "array([0.705, 0.63 , 0.73 , 0.765, 0.69 ])"
      ]
     },
     "execution_count": 21,
     "metadata": {},
     "output_type": "execute_result"
    }
   ],
   "source": [
    "from sklearn.model_selection import cross_val_score\n",
    "cross_val_score(LogisticRegression(),X,y,cv=kf)"
   ]
  },
  {
   "cell_type": "code",
   "execution_count": 23,
   "id": "04c1d977-3f0f-43ae-b88e-06a447ecf200",
   "metadata": {},
   "outputs": [],
   "source": [
    "############### KFold with decision tree"
   ]
  },
  {
   "cell_type": "code",
   "execution_count": 25,
   "id": "524d8e52-3436-4683-9a33-91a6ff7d9367",
   "metadata": {},
   "outputs": [],
   "source": [
    "from sklearn.tree import DecisionTreeClassifier\n",
    "\n",
    "score_df=cross_val_score(DecisionTreeClassifier(), X,y,cv=kf) \n"
   ]
  },
  {
   "cell_type": "code",
   "execution_count": 27,
   "id": "be0d8a1e-6d3e-41e5-93cb-e896de0672dd",
   "metadata": {},
   "outputs": [
    {
     "data": {
      "text/plain": [
       "array([0.89 , 0.875, 0.895, 0.9  , 0.875])"
      ]
     },
     "execution_count": 27,
     "metadata": {},
     "output_type": "execute_result"
    }
   ],
   "source": [
    "score_df"
   ]
  },
  {
   "cell_type": "code",
   "execution_count": 37,
   "id": "9a73d92c-4a17-4692-a6fd-50aff210c73f",
   "metadata": {},
   "outputs": [
    {
     "data": {
      "text/plain": [
       "0.8870000000000001"
      ]
     },
     "execution_count": 37,
     "metadata": {},
     "output_type": "execute_result"
    }
   ],
   "source": [
    "np.average(score_df)"
   ]
  },
  {
   "cell_type": "code",
   "execution_count": 35,
   "id": "74da77fa-20d1-4adc-80e6-1e05cc90551a",
   "metadata": {},
   "outputs": [],
   "source": [
    "import numpy as np"
   ]
  },
  {
   "cell_type": "code",
   "execution_count": null,
   "id": "369ef435-24cb-4f86-a9e4-f53698998630",
   "metadata": {},
   "outputs": [],
   "source": []
  }
 ],
 "metadata": {
  "kernelspec": {
   "display_name": "Python 3 (ipykernel)",
   "language": "python",
   "name": "python3"
  },
  "language_info": {
   "codemirror_mode": {
    "name": "ipython",
    "version": 3
   },
   "file_extension": ".py",
   "mimetype": "text/x-python",
   "name": "python",
   "nbconvert_exporter": "python",
   "pygments_lexer": "ipython3",
   "version": "3.11.9"
  }
 },
 "nbformat": 4,
 "nbformat_minor": 5
}
